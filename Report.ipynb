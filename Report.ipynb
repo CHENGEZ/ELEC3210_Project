{
 "cells": [
  {
   "cell_type": "markdown",
   "metadata": {},
   "source": [
    "# **ELEC3210 Final Project Report**\n",
    "\n",
    "## **Overview**\n",
    "In this project, we implemented ROS packages for achieving 5 tasks under a simulation environment. The 5 tasks include controlling the robot using the keyboard, building the map and localizing the position of the robot through simultaneous localization and mapping (SLAM), detecting and localizing images on the wall, judging the area of the robot, and following a moving yellow ball in the environment. Overall, when all tasks are launched, the ROS node graph showing all topic communication between nodes is shown in the following figure.\n",
    "![topic communication between nodes](./ros_node_graph.png \"topic communication between nodes\")\n",
    "\n",
    "## **Environment Setup**\n",
    "- Basic Requirement\n",
    "    - Ubuntu 20.04\n",
    "    - ROS Noetic\n",
    "    - CoppeliaSim 4.4.0\n",
    "- Extra Packages/Libraries\n",
    "    - A modified `teleop_twist_keyboard` package.\n",
    "        - Install the original `teleop_twist_keyboard` package using `sudo apt-get install ros-noetic-teleop-twist-keyboard`\n",
    "        - Because the original teleop only supports controlling the robot, but we need one additional key to change the control mode (manual/auto) and two additional keys to control whether the camera and laser should be enabled. (We want to disable the laser in auto tracking mode), so we need to modify their source code to add this new feature. \n",
    "            - go find the original .py file `teleop_twist_keyboard.py` at `/opt/ros/noetic/lib/teleop_twist_keyboard` (This should be the default directory if you did not modify your default installation directory)\n",
    "            - replace the original py file `teleop_twist_keyboard.py` with the `teleop_twist_keyboard.py` file we provided in our code submission. Our modified `teleop_twist_keyboard.py` is under `key_ctrl/scripts/`. (You may need sudo access to make this modification on your local computer)\n",
    "    - The `hector_mapping` package provided by ROS.\n",
    "        - Install it using `sudo apt-get install ros-noetic-hector-mapping`\n",
    "    - OpenCV 4.2.0\n",
    "        - Note that the installation of OpenCV should also include the pre-trained face detection model `haarcascade_frontalface_default.xml` under `/usr/share/opencv4/haarcascades/`, which should be the default path to find this model. This model is necessary for completing the face recognition task.\n",
    "\n",
    "    \n",
    "    \n",
    "## **Module Implementation**\n",
    "### Keyboard Control (CHENG Yize)\n",
    "The keyboard controller leveraged the modified version of the `teleop_twist_keyboard` package from ROS. This package listens to keyboard signals and publish different velocity commands (including linear and angular velocity in the x, y, and z dimension) to the `/cmd_vel` topic according to different keyboard inputs. Since in this project, we only need linear velocity in the x dimension and angular velocity in the z dimension, the remaining four values can be utilized to serve as boolean variables to control the switch of the laser, switch of the camera, and the control mode. We achieved this by adding three boolean data members `self.enable_img`, `self.enable_laser`, and `self.manual_control` to the `PublishThread` class in `teleop_twist_keyboard.py`. We negate the values stored in these three variables when key `s`, `d`, and `t` are pushed, where `s` controls the camera switch, `d` controls the laser switch, and `t` controls the control mode. We use the angular velocity in the x dimension as the boolean indicator of the camera switch, the angular velocity in the y dimension as the boolean indicator as the laser switch, and the linear velocity in the y dimension as the boolean indicator for the control mode. The value of `enable_img` and `enable_laser` are further published to `/vrep/camera_switch` and `/vrep/laser_switch` respectively to control the the camera and laser. And we only further pass on the velocity command from `/cmd_vel` to `/vrep/cmd_vel` to control the robot in the simulation environment if the value of `manual_control` is true, otherwise the velocity command should come from the `follow_yellow_ball` package.\n",
    "\n",
    "The eventual key control instruction is shown as follows:\n",
    "- `s` : toggle enable/disable camera\n",
    "- `d` : toggle enable/disable laser\n",
    "- `t` : toggle manual/auto mode. The key controls work only in the manual mode. The keys will have no effect to the robot movement under auto mode.\n",
    "- `u`,`i`,`o`,`j`,`k`,`l`,`m`,`,`,`.` : these 9 keys serves the same purpose as in the original `teleop_twist_keyboard` package. (for moving around)\n",
    "- `q`/`z` : increase/decrease max speeds (both linear and angular) by 10%\n",
    "- `w`/`x` : increase/decrease only linear speed by 10%\n",
    "- `e`/`c` : increase/decrease only angular speed by 10%\n",
    "### Build Map (CHENG Yize & ZHAO Yuxuan)\n",
    "The `build_map` package levaraged the `hector_mapping` package provided by ROS. \n",
    "### Perception (CHENG Yize)\n",
    "\n",
    "### Follow Yellow Ball (ZHAO Yuxuan)\n",
    "\n",
    "### Launch File (CHENG Yize & ZHAO Yuxuan)\n",
    "\n",
    "## **Conclusion**\n",
    "\n",
    "## **References**"
   ]
  }
 ],
 "metadata": {
  "kernelspec": {
   "display_name": "Python 3.9.7 ('base')",
   "language": "python",
   "name": "python3"
  },
  "language_info": {
   "name": "python",
   "version": "3.9.7"
  },
  "orig_nbformat": 4,
  "vscode": {
   "interpreter": {
    "hash": "e57d895f839bb6398cc8f8c04e6925ef3b12b7114b1d94dfa028d2b26fdde0af"
   }
  }
 },
 "nbformat": 4,
 "nbformat_minor": 2
}
